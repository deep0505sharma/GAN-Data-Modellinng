{
  "nbformat": 4,
  "nbformat_minor": 0,
  "metadata": {
    "colab": {
      "name": " QCG Project_Deepak.ipynb",
      "provenance": [],
      "collapsed_sections": [],
      "authorship_tag": "ABX9TyNO+qhfBm/ofDw9slozcO0K",
      "include_colab_link": true
    },
    "kernelspec": {
      "name": "python3",
      "display_name": "Python 3"
    },
    "language_info": {
      "name": "python"
    }
  },
  "cells": [
    {
      "cell_type": "markdown",
      "metadata": {
        "id": "view-in-github",
        "colab_type": "text"
      },
      "source": [
        "<a href=\"https://colab.research.google.com/github/deep0505sharma/GAN-Data-Modellinng/blob/main/QCG_Project_Deepak.ipynb\" target=\"_parent\"><img src=\"https://colab.research.google.com/assets/colab-badge.svg\" alt=\"Open In Colab\"/></a>"
      ]
    },
    {
      "cell_type": "code",
      "execution_count": null,
      "metadata": {
        "id": "e2v8XIFLG_L2"
      },
      "outputs": [],
      "source": [
        "!pip install qiskit\n"
      ]
    },
    {
      "cell_type": "code",
      "source": [
        "!pip install pylatexenc"
      ],
      "metadata": {
        "id": "voie6LnmXBZ4"
      },
      "execution_count": null,
      "outputs": []
    },
    {
      "cell_type": "code",
      "source": [
        "!pip install qiskit-aqua[cplex]"
      ],
      "metadata": {
        "id": "oC2qZ-acJ7gX"
      },
      "execution_count": null,
      "outputs": []
    },
    {
      "cell_type": "code",
      "source": [
        "!pip3 install -e"
      ],
      "metadata": {
        "id": "r9RZ1lk4JO6L"
      },
      "execution_count": null,
      "outputs": []
    },
    {
      "cell_type": "code",
      "source": [
        "from qiskit import *\n",
        "from qiskit.aqua.algorithms import Grover\n",
        "from qiskit.aqua.components.oracles import LogicalExpressionOracle\n",
        "from qiskit.compiler import transpile, assemble\n",
        "from qiskit.tools.jupyter import *\n",
        "from qiskit.visualization import *\n",
        "from qiskit.tools.visualization import *\n",
        "from qiskit.tools.monitor import job_monitor"
      ],
      "metadata": {
        "id": "us_8pbJBHCKp"
      },
      "execution_count": 5,
      "outputs": []
    },
    {
      "cell_type": "code",
      "source": [
        "%%javascript\n",
        "IPython.OutputArea.prototype._should_scroll = function(lines) {\n",
        "    return false;\n",
        "}"
      ],
      "metadata": {
        "id": "FEX10Z-fHCUi",
        "colab": {
          "base_uri": "https://localhost:8080/",
          "height": 17
        },
        "outputId": "5f6bcf16-1d22-430d-c25e-10255a493ab9"
      },
      "execution_count": 6,
      "outputs": [
        {
          "output_type": "display_data",
          "data": {
            "text/plain": [
              "<IPython.core.display.Javascript object>"
            ],
            "application/javascript": [
              "IPython.OutputArea.prototype._should_scroll = function(lines) {\n",
              "    return false;\n",
              "}"
            ]
          },
          "metadata": {}
        }
      ]
    },
    {
      "cell_type": "code",
      "source": [
        "import time\n",
        "import matplotlib.pyplot as plt\n",
        "from IPython import display\n",
        "def hold(circuit, state, counts, fig1, fig2, fig3):\n",
        "    circuit.draw(output='mpl', fold=100, ax=fig1.gca())\n",
        "    plot_state_qsphere(state, ax=fig2.gca())\n",
        "    plot_histogram(counts, ax=fig3.gca())\n",
        "    display.display(fig1)\n",
        "    display.display(fig2)\n",
        "    display.display(fig3)\n",
        "    display.clear_output(wait=True)\n",
        "    time.sleep(2)"
      ],
      "metadata": {
        "id": "48lZ9gEQHCab"
      },
      "execution_count": 7,
      "outputs": []
    },
    {
      "cell_type": "code",
      "source": [
        "import numpy as np\n",
        "from qiskit.circuit.library import Diagonal\n",
        "from qiskit import QuantumCircuit\n",
        "from qiskit.quantum_info import Statevector, Operator, DensityMatrix, ScalarOp\n",
        "from qiskit.visualization import plot_state_qsphere, plot_histogram\n",
        "from qiskit.converters import circuit_to_dag, dag_to_circuit\n",
        "\n",
        "# Problem size: width and number of iterations\n",
        "n = 5\n",
        "steps = int(np.sqrt(2**n))\n",
        "oracle=QuantumCircuit(5,name='oracle')\n",
        "# Diagonal operators for mark and diffuse\n",
        "mark_state = Statevector.from_label('11010')\n",
        "mark_state2 = Statevector.from_label('11011')\n",
        "mark_state3 = Statevector.from_label('11001')\n",
        "mark_state4 = Statevector.from_label('11110')\n",
        "mark_state5 = Statevector.from_label('11000')\n",
        "\n",
        "mark_circuit1 = Diagonal((-1)**mark_state.data)  # circuit that induces a -1 phase on the mark_state\n",
        "mark_circuit2 = Diagonal((-1)**mark_state2.data)  # circuit that induces a -1 phase on the mark_state21\n",
        "mark_circuit3 = Diagonal((-1)**mark_state3.data)\n",
        "mark_circuit4 = Diagonal((-1)**mark_state4.data)\n",
        "mark_circuit5 = Diagonal((-1)**mark_state5.data)\n"
      ],
      "metadata": {
        "id": "Fn9-ppPtTzVf"
      },
      "execution_count": 12,
      "outputs": []
    },
    {
      "cell_type": "code",
      "source": [
        "\n",
        "\n",
        "oracle.append(mark_circuit1, [0,1,2,3,4])\n",
        "oracle.append(mark_circuit2, [0,1,2,3,4] )\n",
        "oracle.append(mark_circuit3, [0,1,2,3,4])\n",
        "oracle.append(mark_circuit4, [0,1,2,3,4])\n",
        "oracle.append(mark_circuit5, [0,1,2,3,4])\n",
        "oracle.draw()"
      ],
      "metadata": {
        "colab": {
          "base_uri": "https://localhost:8080/",
          "height": 186
        },
        "id": "AtGn8RUATzhn",
        "outputId": "6e18289d-1687-4fda-c0b9-2ba565ead753"
      },
      "execution_count": 13,
      "outputs": [
        {
          "output_type": "execute_result",
          "data": {
            "text/plain": [
              "     ┌───────────┐┌───────────┐┌───────────┐┌───────────┐┌───────────┐\n",
              "q_0: ┤0          ├┤0          ├┤0          ├┤0          ├┤0          ├\n",
              "     │           ││           ││           ││           ││           │\n",
              "q_1: ┤1          ├┤1          ├┤1          ├┤1          ├┤1          ├\n",
              "     │           ││           ││           ││           ││           │\n",
              "q_2: ┤2 Diagonal ├┤2 Diagonal ├┤2 Diagonal ├┤2 Diagonal ├┤2 Diagonal ├\n",
              "     │           ││           ││           ││           ││           │\n",
              "q_3: ┤3          ├┤3          ├┤3          ├┤3          ├┤3          ├\n",
              "     │           ││           ││           ││           ││           │\n",
              "q_4: ┤4          ├┤4          ├┤4          ├┤4          ├┤4          ├\n",
              "     └───────────┘└───────────┘└───────────┘└───────────┘└───────────┘"
            ],
            "text/html": [
              "<pre style=\"word-wrap: normal;white-space: pre;background: #fff0;line-height: 1.1;font-family: &quot;Courier New&quot;,Courier,monospace\">     ┌───────────┐┌───────────┐┌───────────┐┌───────────┐┌───────────┐\n",
              "q_0: ┤0          ├┤0          ├┤0          ├┤0          ├┤0          ├\n",
              "     │           ││           ││           ││           ││           │\n",
              "q_1: ┤1          ├┤1          ├┤1          ├┤1          ├┤1          ├\n",
              "     │           ││           ││           ││           ││           │\n",
              "q_2: ┤2 Diagonal ├┤2 Diagonal ├┤2 Diagonal ├┤2 Diagonal ├┤2 Diagonal ├\n",
              "     │           ││           ││           ││           ││           │\n",
              "q_3: ┤3          ├┤3          ├┤3          ├┤3          ├┤3          ├\n",
              "     │           ││           ││           ││           ││           │\n",
              "q_4: ┤4          ├┤4          ├┤4          ├┤4          ├┤4          ├\n",
              "     └───────────┘└───────────┘└───────────┘└───────────┘└───────────┘</pre>"
            ]
          },
          "metadata": {},
          "execution_count": 13
        }
      ]
    },
    {
      "cell_type": "code",
      "source": [
        "amp = QuantumCircuit(5,name='amp');\n",
        "amp.h([0,1,2,3,4])\n",
        "amp.x([0,1,2,3,4])\n",
        "invert_state = Statevector.from_label('11111')\n",
        "invert_state = Diagonal((-1)**invert_state.data)\n",
        "amp.append(invert_state,[0,1,2,3,4])\n",
        "amp.x([0,1,2,3,4])\n",
        "amp.h([0,1,2,3,4])\n",
        "amp.draw()"
      ],
      "metadata": {
        "id": "EY-7VUkjehdt",
        "colab": {
          "base_uri": "https://localhost:8080/",
          "height": 186
        },
        "outputId": "3ba61bc8-99ec-40ce-9bca-1de95a65df34"
      },
      "execution_count": 15,
      "outputs": [
        {
          "output_type": "execute_result",
          "data": {
            "text/plain": [
              "     ┌───┐┌───┐┌───────────┐┌───┐┌───┐\n",
              "q_0: ┤ H ├┤ X ├┤0          ├┤ X ├┤ H ├\n",
              "     ├───┤├───┤│           │├───┤├───┤\n",
              "q_1: ┤ H ├┤ X ├┤1          ├┤ X ├┤ H ├\n",
              "     ├───┤├───┤│           │├───┤├───┤\n",
              "q_2: ┤ H ├┤ X ├┤2 Diagonal ├┤ X ├┤ H ├\n",
              "     ├───┤├───┤│           │├───┤├───┤\n",
              "q_3: ┤ H ├┤ X ├┤3          ├┤ X ├┤ H ├\n",
              "     ├───┤├───┤│           │├───┤├───┤\n",
              "q_4: ┤ H ├┤ X ├┤4          ├┤ X ├┤ H ├\n",
              "     └───┘└───┘└───────────┘└───┘└───┘"
            ],
            "text/html": [
              "<pre style=\"word-wrap: normal;white-space: pre;background: #fff0;line-height: 1.1;font-family: &quot;Courier New&quot;,Courier,monospace\">     ┌───┐┌───┐┌───────────┐┌───┐┌───┐\n",
              "q_0: ┤ H ├┤ X ├┤0          ├┤ X ├┤ H ├\n",
              "     ├───┤├───┤│           │├───┤├───┤\n",
              "q_1: ┤ H ├┤ X ├┤1          ├┤ X ├┤ H ├\n",
              "     ├───┤├───┤│           │├───┤├───┤\n",
              "q_2: ┤ H ├┤ X ├┤2 Diagonal ├┤ X ├┤ H ├\n",
              "     ├───┤├───┤│           │├───┤├───┤\n",
              "q_3: ┤ H ├┤ X ├┤3          ├┤ X ├┤ H ├\n",
              "     ├───┤├───┤│           │├───┤├───┤\n",
              "q_4: ┤ H ├┤ X ├┤4          ├┤ X ├┤ H ├\n",
              "     └───┘└───┘└───────────┘└───┘└───┘</pre>"
            ]
          },
          "metadata": {},
          "execution_count": 15
        }
      ]
    },
    {
      "cell_type": "code",
      "source": [
        "grover_circuit = QuantumCircuit(5,5)\n",
        "grover_circuit.h([0,1,2,3,4])\n",
        "grover_circuit.append(oracle,[0,1,2,3,4])\n",
        "grover_circuit.append(amp,[0,1,2,3,4])\n",
        "grover_circuit.append(oracle,[0,1,2,3,4])\n",
        "grover_circuit.append(amp,[0,1,2,3,4])\n",
        "# Import Aer\n",
        "from qiskit import Aer,execute\n",
        "\n",
        "# Run the quantum circuit on a statevector simulator backend\n",
        "backend = Aer.get_backend('statevector_simulator')\n",
        "# Create a Quantum Program for execution\n",
        "job = execute(grover_circuit,backend)\n",
        "result = job.result()\n",
        "outputstate = result.get_statevector()\n",
        "print(outputstate)\n",
        "grover_circuit.measure([0,1,2,3,4],[0,1,2,3,4])\n",
        "grover_circuit.draw()\n",
        "\n"
      ],
      "metadata": {
        "colab": {
          "base_uri": "https://localhost:8080/",
          "height": 512
        },
        "id": "P4bkSkbK7ht4",
        "outputId": "9420ba7a-274d-45ee-b406-a4b327aad8af"
      },
      "execution_count": 25,
      "outputs": [
        {
          "output_type": "stream",
          "name": "stdout",
          "text": [
            "Statevector([-0.08562621-2.65281156e-16j, -0.08562621-3.39482356e-16j,\n",
            "             -0.08562621-4.78922457e-16j, -0.08562621-6.35661240e-16j,\n",
            "             -0.08562621-3.11113110e-16j, -0.08562621-4.58105775e-16j,\n",
            "             -0.08562621-4.51227679e-16j, -0.08562621-6.54187264e-16j,\n",
            "             -0.08562621-4.15865307e-16j, -0.08562621-5.48038464e-16j,\n",
            "             -0.08562621-4.97333451e-16j, -0.08562621-7.82271624e-16j,\n",
            "             -0.08562621-2.91687794e-16j, -0.08562621-5.14570893e-16j,\n",
            "             -0.08562621-3.62371439e-16j, -0.08562621-5.32088275e-16j,\n",
            "             -0.08562621-3.91874509e-16j, -0.08562621-2.47500552e-16j,\n",
            "             -0.08562621-4.59799039e-16j, -0.08562621-4.43065475e-16j,\n",
            "             -0.08562621-2.74642457e-16j, -0.08562621-5.08371296e-16j,\n",
            "             -0.08562621-3.97409791e-16j, -0.08562621-2.91588598e-16j,\n",
            "              0.4005097 +2.52698886e-15j,  0.4005097 +2.57869639e-15j,\n",
            "              0.4005097 +2.36919288e-15j,  0.4005097 +2.59079396e-15j,\n",
            "             -0.08562621-5.98692390e-16j, -0.08562621-4.26058535e-16j,\n",
            "              0.4005097 +2.62211609e-15j, -0.08562621-3.95003661e-16j],\n",
            "            dims=(2, 2, 2, 2, 2))\n"
          ]
        },
        {
          "output_type": "execute_result",
          "data": {
            "text/plain": [
              "     ┌───┐┌─────────┐┌──────┐┌─────────┐┌──────┐┌─┐            \n",
              "q_0: ┤ H ├┤0        ├┤0     ├┤0        ├┤0     ├┤M├────────────\n",
              "     ├───┤│         ││      ││         ││      │└╥┘┌─┐         \n",
              "q_1: ┤ H ├┤1        ├┤1     ├┤1        ├┤1     ├─╫─┤M├─────────\n",
              "     ├───┤│         ││      ││         ││      │ ║ └╥┘┌─┐      \n",
              "q_2: ┤ H ├┤2 oracle ├┤2 amp ├┤2 oracle ├┤2 amp ├─╫──╫─┤M├──────\n",
              "     ├───┤│         ││      ││         ││      │ ║  ║ └╥┘┌─┐   \n",
              "q_3: ┤ H ├┤3        ├┤3     ├┤3        ├┤3     ├─╫──╫──╫─┤M├───\n",
              "     ├───┤│         ││      ││         ││      │ ║  ║  ║ └╥┘┌─┐\n",
              "q_4: ┤ H ├┤4        ├┤4     ├┤4        ├┤4     ├─╫──╫──╫──╫─┤M├\n",
              "     └───┘└─────────┘└──────┘└─────────┘└──────┘ ║  ║  ║  ║ └╥┘\n",
              "c: 5/════════════════════════════════════════════╩══╩══╩══╩══╩═\n",
              "                                                 0  1  2  3  4 "
            ],
            "text/html": [
              "<pre style=\"word-wrap: normal;white-space: pre;background: #fff0;line-height: 1.1;font-family: &quot;Courier New&quot;,Courier,monospace\">     ┌───┐┌─────────┐┌──────┐┌─────────┐┌──────┐┌─┐            \n",
              "q_0: ┤ H ├┤0        ├┤0     ├┤0        ├┤0     ├┤M├────────────\n",
              "     ├───┤│         ││      ││         ││      │└╥┘┌─┐         \n",
              "q_1: ┤ H ├┤1        ├┤1     ├┤1        ├┤1     ├─╫─┤M├─────────\n",
              "     ├───┤│         ││      ││         ││      │ ║ └╥┘┌─┐      \n",
              "q_2: ┤ H ├┤2 oracle ├┤2 amp ├┤2 oracle ├┤2 amp ├─╫──╫─┤M├──────\n",
              "     ├───┤│         ││      ││         ││      │ ║  ║ └╥┘┌─┐   \n",
              "q_3: ┤ H ├┤3        ├┤3     ├┤3        ├┤3     ├─╫──╫──╫─┤M├───\n",
              "     ├───┤│         ││      ││         ││      │ ║  ║  ║ └╥┘┌─┐\n",
              "q_4: ┤ H ├┤4        ├┤4     ├┤4        ├┤4     ├─╫──╫──╫──╫─┤M├\n",
              "     └───┘└─────────┘└──────┘└─────────┘└──────┘ ║  ║  ║  ║ └╥┘\n",
              "c: 5/════════════════════════════════════════════╩══╩══╩══╩══╩═\n",
              "                                                 0  1  2  3  4 </pre>"
            ]
          },
          "metadata": {},
          "execution_count": 25
        }
      ]
    },
    {
      "cell_type": "code",
      "source": [
        ""
      ],
      "metadata": {
        "colab": {
          "base_uri": "https://localhost:8080/",
          "height": 397
        },
        "id": "UwGvUQEN9e13",
        "outputId": "614234c5-5bf4-4d02-a742-6f0eff65dc52"
      },
      "execution_count": 21,
      "outputs": [
        {
          "output_type": "stream",
          "name": "stderr",
          "text": [
            "Simulation failed and returned the following error message:\n",
            "ERROR:  [Experiment 0] Circuit circuit-686 contains invalid instructions {\"gates\": {oracle, amp}} for \"statevector\" method.\n"
          ]
        },
        {
          "output_type": "error",
          "ename": "QiskitError",
          "evalue": "ignored",
          "traceback": [
            "\u001b[0;31m---------------------------------------------------------------------------\u001b[0m",
            "\u001b[0;31mQiskitError\u001b[0m                               Traceback (most recent call last)",
            "\u001b[0;32m<ipython-input-21-623040b7606a>\u001b[0m in \u001b[0;36m<module>\u001b[0;34m()\u001b[0m\n\u001b[1;32m      7\u001b[0m \u001b[0mjob\u001b[0m \u001b[0;34m=\u001b[0m \u001b[0mbackend\u001b[0m\u001b[0;34m.\u001b[0m\u001b[0mrun\u001b[0m\u001b[0;34m(\u001b[0m\u001b[0mgrover_circuit\u001b[0m\u001b[0;34m)\u001b[0m\u001b[0;34m\u001b[0m\u001b[0;34m\u001b[0m\u001b[0m\n\u001b[1;32m      8\u001b[0m \u001b[0mresult\u001b[0m \u001b[0;34m=\u001b[0m \u001b[0mjob\u001b[0m\u001b[0;34m.\u001b[0m\u001b[0mresult\u001b[0m\u001b[0;34m(\u001b[0m\u001b[0;34m)\u001b[0m\u001b[0;34m\u001b[0m\u001b[0;34m\u001b[0m\u001b[0m\n\u001b[0;32m----> 9\u001b[0;31m \u001b[0moutputstate\u001b[0m \u001b[0;34m=\u001b[0m \u001b[0mresult\u001b[0m\u001b[0;34m.\u001b[0m\u001b[0mget_statevector\u001b[0m\u001b[0;34m(\u001b[0m\u001b[0mgrover_circuit\u001b[0m\u001b[0;34m,\u001b[0m \u001b[0mdecimals\u001b[0m\u001b[0;34m=\u001b[0m\u001b[0;36m3\u001b[0m\u001b[0;34m)\u001b[0m\u001b[0;34m\u001b[0m\u001b[0;34m\u001b[0m\u001b[0m\n\u001b[0m\u001b[1;32m     10\u001b[0m \u001b[0mprint\u001b[0m\u001b[0;34m(\u001b[0m\u001b[0moutputstate\u001b[0m\u001b[0;34m)\u001b[0m\u001b[0;34m\u001b[0m\u001b[0;34m\u001b[0m\u001b[0m\n",
            "\u001b[0;32m/usr/local/lib/python3.7/dist-packages/qiskit/result/result.py\u001b[0m in \u001b[0;36mget_statevector\u001b[0;34m(self, experiment, decimals)\u001b[0m\n\u001b[1;32m    323\u001b[0m         \u001b[0;32mtry\u001b[0m\u001b[0;34m:\u001b[0m\u001b[0;34m\u001b[0m\u001b[0;34m\u001b[0m\u001b[0m\n\u001b[1;32m    324\u001b[0m             return postprocess.format_statevector(\n\u001b[0;32m--> 325\u001b[0;31m                 \u001b[0mself\u001b[0m\u001b[0;34m.\u001b[0m\u001b[0mdata\u001b[0m\u001b[0;34m(\u001b[0m\u001b[0mexperiment\u001b[0m\u001b[0;34m)\u001b[0m\u001b[0;34m[\u001b[0m\u001b[0;34m\"statevector\"\u001b[0m\u001b[0;34m]\u001b[0m\u001b[0;34m,\u001b[0m \u001b[0mdecimals\u001b[0m\u001b[0;34m=\u001b[0m\u001b[0mdecimals\u001b[0m\u001b[0;34m\u001b[0m\u001b[0;34m\u001b[0m\u001b[0m\n\u001b[0m\u001b[1;32m    326\u001b[0m             )\n\u001b[1;32m    327\u001b[0m         \u001b[0;32mexcept\u001b[0m \u001b[0mKeyError\u001b[0m \u001b[0;32mas\u001b[0m \u001b[0mex\u001b[0m\u001b[0;34m:\u001b[0m\u001b[0;34m\u001b[0m\u001b[0;34m\u001b[0m\u001b[0m\n",
            "\u001b[0;32m/usr/local/lib/python3.7/dist-packages/qiskit/result/result.py\u001b[0m in \u001b[0;36mdata\u001b[0;34m(self, experiment)\u001b[0m\n\u001b[1;32m    196\u001b[0m         \"\"\"\n\u001b[1;32m    197\u001b[0m         \u001b[0;32mtry\u001b[0m\u001b[0;34m:\u001b[0m\u001b[0;34m\u001b[0m\u001b[0;34m\u001b[0m\u001b[0m\n\u001b[0;32m--> 198\u001b[0;31m             \u001b[0;32mreturn\u001b[0m \u001b[0mself\u001b[0m\u001b[0;34m.\u001b[0m\u001b[0m_get_experiment\u001b[0m\u001b[0;34m(\u001b[0m\u001b[0mexperiment\u001b[0m\u001b[0;34m)\u001b[0m\u001b[0;34m.\u001b[0m\u001b[0mdata\u001b[0m\u001b[0;34m.\u001b[0m\u001b[0mto_dict\u001b[0m\u001b[0;34m(\u001b[0m\u001b[0;34m)\u001b[0m\u001b[0;34m\u001b[0m\u001b[0;34m\u001b[0m\u001b[0m\n\u001b[0m\u001b[1;32m    199\u001b[0m         \u001b[0;32mexcept\u001b[0m \u001b[0;34m(\u001b[0m\u001b[0mKeyError\u001b[0m\u001b[0;34m,\u001b[0m \u001b[0mTypeError\u001b[0m\u001b[0;34m)\u001b[0m \u001b[0;32mas\u001b[0m \u001b[0mex\u001b[0m\u001b[0;34m:\u001b[0m\u001b[0;34m\u001b[0m\u001b[0;34m\u001b[0m\u001b[0m\n\u001b[1;32m    200\u001b[0m             \u001b[0;32mraise\u001b[0m \u001b[0mQiskitError\u001b[0m\u001b[0;34m(\u001b[0m\u001b[0;34mf'No data for experiment \"{repr(experiment)}\"'\u001b[0m\u001b[0;34m)\u001b[0m \u001b[0;32mfrom\u001b[0m \u001b[0mex\u001b[0m\u001b[0;34m\u001b[0m\u001b[0;34m\u001b[0m\u001b[0m\n",
            "\u001b[0;32m/usr/local/lib/python3.7/dist-packages/qiskit/result/result.py\u001b[0m in \u001b[0;36m_get_experiment\u001b[0;34m(self, key)\u001b[0m\n\u001b[1;32m    389\u001b[0m \u001b[0;34m\u001b[0m\u001b[0m\n\u001b[1;32m    390\u001b[0m             \u001b[0;32mif\u001b[0m \u001b[0mlen\u001b[0m\u001b[0;34m(\u001b[0m\u001b[0mexp\u001b[0m\u001b[0;34m)\u001b[0m \u001b[0;34m==\u001b[0m \u001b[0;36m0\u001b[0m\u001b[0;34m:\u001b[0m\u001b[0;34m\u001b[0m\u001b[0;34m\u001b[0m\u001b[0m\n\u001b[0;32m--> 391\u001b[0;31m                 \u001b[0;32mraise\u001b[0m \u001b[0mQiskitError\u001b[0m\u001b[0;34m(\u001b[0m\u001b[0;34m'Data for experiment \"%s\" could not be found.'\u001b[0m \u001b[0;34m%\u001b[0m \u001b[0mkey\u001b[0m\u001b[0;34m)\u001b[0m\u001b[0;34m\u001b[0m\u001b[0;34m\u001b[0m\u001b[0m\n\u001b[0m\u001b[1;32m    392\u001b[0m             \u001b[0;32mif\u001b[0m \u001b[0mlen\u001b[0m\u001b[0;34m(\u001b[0m\u001b[0mexp\u001b[0m\u001b[0;34m)\u001b[0m \u001b[0;34m==\u001b[0m \u001b[0;36m1\u001b[0m\u001b[0;34m:\u001b[0m\u001b[0;34m\u001b[0m\u001b[0;34m\u001b[0m\u001b[0m\n\u001b[1;32m    393\u001b[0m                 \u001b[0mexp\u001b[0m \u001b[0;34m=\u001b[0m \u001b[0mexp\u001b[0m\u001b[0;34m[\u001b[0m\u001b[0;36m0\u001b[0m\u001b[0;34m]\u001b[0m\u001b[0;34m\u001b[0m\u001b[0;34m\u001b[0m\u001b[0m\n",
            "\u001b[0;31mQiskitError\u001b[0m: 'Data for experiment \"circuit-686\" could not be found.'"
          ]
        }
      ]
    },
    {
      "cell_type": "code",
      "source": [
        "backend_sim = Aer.get_backend('qasm_simulator')\n",
        "\n",
        "# Execute the circuit on the qasm simulator.\n",
        "# We've set the number of repeats of the circuit\n",
        "# to be 1024, which is the default.\n",
        "job_sim = backend_sim.run(transpile(grover_circuit, backend_sim), shots=1024)\n",
        "\n",
        "# Grab the results from the job.\n",
        "result_sim = job_sim.result()\n",
        "counts = result_sim.get_counts(grover_circuit)\n",
        "print(counts)\n",
        "from qiskit.visualization import plot_histogram\n",
        "plot_histogram(counts)"
      ],
      "metadata": {
        "colab": {
          "base_uri": "https://localhost:8080/",
          "height": 393
        },
        "id": "g0WcNyGc8lQa",
        "outputId": "caaec05a-9414-4cff-9a31-8b44d88e0bca"
      },
      "execution_count": 20,
      "outputs": [
        {
          "output_type": "stream",
          "name": "stdout",
          "text": [
            "{'00001': 6, '01101': 6, '01100': 11, '01000': 9, '10001': 6, '01010': 9, '00101': 8, '01001': 7, '10101': 6, '10000': 7, '00010': 6, '00110': 8, '10011': 6, '11001': 161, '11010': 175, '11100': 15, '11110': 164, '10111': 8, '11000': 152, '11011': 163, '10110': 12, '11111': 9, '10010': 5, '01110': 6, '00111': 9, '00100': 5, '00011': 6, '00000': 5, '01011': 10, '10100': 10, '11101': 9, '01111': 5}\n"
          ]
        },
        {
          "output_type": "execute_result",
          "data": {
            "text/plain": [
              "<Figure size 504x360 with 1 Axes>"
            ],
            "image/png": "[encoded data removed]"
          },
          "metadata": {},
          "execution_count": 20
        }
      ]
    },
    {
      "cell_type": "code",
      "source": [
        ""
      ],
      "metadata": {
        "id": "UCf6ik4XHC0l"
      },
      "execution_count": 20,
      "outputs": []
    }
  ]
}